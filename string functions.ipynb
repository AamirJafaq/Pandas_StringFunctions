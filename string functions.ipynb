{
 "cells": [
  {
   "cell_type": "code",
   "execution_count": 1,
   "metadata": {},
   "outputs": [],
   "source": [
    "import pandas as pd \n",
    "import numpy as np"
   ]
  },
  {
   "cell_type": "markdown",
   "metadata": {},
   "source": [
    "# Useful string functions that are useful in data cleaning"
   ]
  },
  {
   "cell_type": "markdown",
   "metadata": {},
   "source": [
    "Creating dataframe to practice string functions."
   ]
  },
  {
   "cell_type": "code",
   "execution_count": 122,
   "metadata": {},
   "outputs": [],
   "source": [
    "np.random.seed(2)\n",
    "data = {\n",
    "    \"Date\": pd.date_range(start=\"2024-01-01\", periods=100, freq=\"D\"),\n",
    "    \"Sales\": np.random.randint(500, 5000, size=100),\n",
    "    \"Product_Category\": np.random.choice([\"1Accessories and electronic's \", \"Cloth-ing\", \"12345\", \"FuRNITURE\"], size=100),\n",
    "    \"Store_Location\": np.random.choice([\"North\", \"South\", \"East\", \"West\"], size=100),\n",
    "    \"Units_Sold\": np.random.randint(1, 200, size=100),\n",
    "    \"Profit\": np.random.uniform(50, 500, size=100),\n",
    "    \"Customer_Satisfaction\": np.random.uniform(1, 5, size=100),\n",
    "    \"Stock_Level\": np.random.randint(0, 1000, size=100),\n",
    "    \"Discount_Applied\": np.random.choice([True, False], size=100),\n",
    "    \"Return_Rate\": np.random.uniform(0, 0.1, size=100),\n",
    "}\n",
    "data=pd.DataFrame(data)"
   ]
  },
  {
   "cell_type": "code",
   "execution_count": 123,
   "metadata": {
    "scrolled": true
   },
   "outputs": [
    {
     "data": {
      "text/html": [
       "<div>\n",
       "<style scoped>\n",
       "    .dataframe tbody tr th:only-of-type {\n",
       "        vertical-align: middle;\n",
       "    }\n",
       "\n",
       "    .dataframe tbody tr th {\n",
       "        vertical-align: top;\n",
       "    }\n",
       "\n",
       "    .dataframe thead th {\n",
       "        text-align: right;\n",
       "    }\n",
       "</style>\n",
       "<table border=\"1\" class=\"dataframe\">\n",
       "  <thead>\n",
       "    <tr style=\"text-align: right;\">\n",
       "      <th></th>\n",
       "      <th>Date</th>\n",
       "      <th>Sales</th>\n",
       "      <th>Product_Category</th>\n",
       "      <th>Store_Location</th>\n",
       "      <th>Units_Sold</th>\n",
       "      <th>Profit</th>\n",
       "      <th>Customer_Satisfaction</th>\n",
       "      <th>Stock_Level</th>\n",
       "      <th>Discount_Applied</th>\n",
       "      <th>Return_Rate</th>\n",
       "    </tr>\n",
       "  </thead>\n",
       "  <tbody>\n",
       "    <tr>\n",
       "      <th>0</th>\n",
       "      <td>2024-01-01</td>\n",
       "      <td>3075</td>\n",
       "      <td>Cloth-ing</td>\n",
       "      <td>South</td>\n",
       "      <td>109</td>\n",
       "      <td>148.058294</td>\n",
       "      <td>3.844083</td>\n",
       "      <td>993</td>\n",
       "      <td>True</td>\n",
       "      <td>0.021662</td>\n",
       "    </tr>\n",
       "    <tr>\n",
       "      <th>1</th>\n",
       "      <td>2024-01-02</td>\n",
       "      <td>4106</td>\n",
       "      <td>FuRNITURE</td>\n",
       "      <td>East</td>\n",
       "      <td>7</td>\n",
       "      <td>425.734633</td>\n",
       "      <td>1.975781</td>\n",
       "      <td>447</td>\n",
       "      <td>False</td>\n",
       "      <td>0.044856</td>\n",
       "    </tr>\n",
       "    <tr>\n",
       "      <th>2</th>\n",
       "      <td>2024-01-03</td>\n",
       "      <td>3014</td>\n",
       "      <td>FuRNITURE</td>\n",
       "      <td>West</td>\n",
       "      <td>99</td>\n",
       "      <td>95.304049</td>\n",
       "      <td>3.566291</td>\n",
       "      <td>12</td>\n",
       "      <td>False</td>\n",
       "      <td>0.054918</td>\n",
       "    </tr>\n",
       "    <tr>\n",
       "      <th>3</th>\n",
       "      <td>2024-01-04</td>\n",
       "      <td>1599</td>\n",
       "      <td>FuRNITURE</td>\n",
       "      <td>South</td>\n",
       "      <td>96</td>\n",
       "      <td>214.465273</td>\n",
       "      <td>1.792000</td>\n",
       "      <td>378</td>\n",
       "      <td>True</td>\n",
       "      <td>0.046238</td>\n",
       "    </tr>\n",
       "    <tr>\n",
       "      <th>4</th>\n",
       "      <td>2024-01-05</td>\n",
       "      <td>3835</td>\n",
       "      <td>1Accessories and electronic's</td>\n",
       "      <td>South</td>\n",
       "      <td>50</td>\n",
       "      <td>315.093701</td>\n",
       "      <td>1.807598</td>\n",
       "      <td>554</td>\n",
       "      <td>False</td>\n",
       "      <td>0.013848</td>\n",
       "    </tr>\n",
       "  </tbody>\n",
       "</table>\n",
       "</div>"
      ],
      "text/plain": [
       "        Date  Sales                Product_Category Store_Location  \\\n",
       "0 2024-01-01   3075                       Cloth-ing          South   \n",
       "1 2024-01-02   4106                       FuRNITURE           East   \n",
       "2 2024-01-03   3014                       FuRNITURE           West   \n",
       "3 2024-01-04   1599                       FuRNITURE          South   \n",
       "4 2024-01-05   3835  1Accessories and electronic's           South   \n",
       "\n",
       "   Units_Sold      Profit  Customer_Satisfaction  Stock_Level  \\\n",
       "0         109  148.058294               3.844083          993   \n",
       "1           7  425.734633               1.975781          447   \n",
       "2          99   95.304049               3.566291           12   \n",
       "3          96  214.465273               1.792000          378   \n",
       "4          50  315.093701               1.807598          554   \n",
       "\n",
       "   Discount_Applied  Return_Rate  \n",
       "0              True     0.021662  \n",
       "1             False     0.044856  \n",
       "2             False     0.054918  \n",
       "3              True     0.046238  \n",
       "4             False     0.013848  "
      ]
     },
     "execution_count": 123,
     "metadata": {},
     "output_type": "execute_result"
    }
   ],
   "source": [
    "data.head()"
   ]
  },
  {
   "cell_type": "markdown",
   "metadata": {},
   "source": [
    "To know data types of each column, you can use \"dtypes\" attribute"
   ]
  },
  {
   "cell_type": "code",
   "execution_count": 124,
   "metadata": {},
   "outputs": [
    {
     "data": {
      "text/plain": [
       "Date                     datetime64[ns]\n",
       "Sales                             int32\n",
       "Product_Category                 object\n",
       "Store_Location                   object\n",
       "Units_Sold                        int32\n",
       "Profit                          float64\n",
       "Customer_Satisfaction           float64\n",
       "Stock_Level                       int32\n",
       "Discount_Applied                   bool\n",
       "Return_Rate                     float64\n",
       "dtype: object"
      ]
     },
     "execution_count": 124,
     "metadata": {},
     "output_type": "execute_result"
    }
   ],
   "source": [
    "data.dtypes"
   ]
  },
  {
   "cell_type": "markdown",
   "metadata": {},
   "source": [
    "Note that you can only apply string functions to columns of string type."
   ]
  },
  {
   "cell_type": "markdown",
   "metadata": {},
   "source": [
    "To remove any leading, and trailing whitespaces from a string, you can use \"str.strip()\"\" method. You can also specify the character as argument to remove from the beginning and at the end."
   ]
  },
  {
   "cell_type": "code",
   "execution_count": 125,
   "metadata": {},
   "outputs": [
    {
     "data": {
      "text/plain": [
       "0                         Cloth-ing\n",
       "1                         FuRNITURE\n",
       "2                         FuRNITURE\n",
       "3                         FuRNITURE\n",
       "4     1Accessories and electronic's\n",
       "                  ...              \n",
       "95                            12345\n",
       "96    1Accessories and electronic's\n",
       "97                            12345\n",
       "98                            12345\n",
       "99    1Accessories and electronic's\n",
       "Name: Product_Category, Length: 100, dtype: object"
      ]
     },
     "execution_count": 125,
     "metadata": {},
     "output_type": "execute_result"
    }
   ],
   "source": [
    "data[\"Product_Category\"].str.strip()   #this will remove trailing and leading whitespaces"
   ]
  },
  {
   "cell_type": "code",
   "execution_count": 126,
   "metadata": {
    "scrolled": true
   },
   "outputs": [
    {
     "data": {
      "text/plain": [
       "0                             Cloth-\n",
       "1                          FuRNITURE\n",
       "2                          FuRNITURE\n",
       "3                          FuRNITURE\n",
       "4     1Accessories and electronic's \n",
       "                   ...              \n",
       "95                             12345\n",
       "96    1Accessories and electronic's \n",
       "97                             12345\n",
       "98                             12345\n",
       "99    1Accessories and electronic's \n",
       "Name: Product_Category, Length: 100, dtype: object"
      ]
     },
     "execution_count": 126,
     "metadata": {},
     "output_type": "execute_result"
    }
   ],
   "source": [
    "data[\"Product_Category\"].str.strip(\"ing\")   #this will remove ing from the begining and at the end of each string."
   ]
  },
  {
   "cell_type": "markdown",
   "metadata": {},
   "source": [
    "You can use \"str.lower()\" method to uncapitilize each string of the column."
   ]
  },
  {
   "cell_type": "code",
   "execution_count": 127,
   "metadata": {
    "scrolled": true
   },
   "outputs": [
    {
     "data": {
      "text/plain": [
       "0                          cloth-ing\n",
       "1                          furniture\n",
       "2                          furniture\n",
       "3                          furniture\n",
       "4     1accessories and electronic's \n",
       "                   ...              \n",
       "95                             12345\n",
       "96    1accessories and electronic's \n",
       "97                             12345\n",
       "98                             12345\n",
       "99    1accessories and electronic's \n",
       "Name: Product_Category, Length: 100, dtype: object"
      ]
     },
     "execution_count": 127,
     "metadata": {},
     "output_type": "execute_result"
    }
   ],
   "source": [
    "data[\"Product_Category\"].str.lower() "
   ]
  },
  {
   "cell_type": "markdown",
   "metadata": {},
   "source": [
    "You can use str.upper() method to capitilize each string of the column."
   ]
  },
  {
   "cell_type": "code",
   "execution_count": 128,
   "metadata": {
    "scrolled": true
   },
   "outputs": [
    {
     "data": {
      "text/plain": [
       "0                          CLOTH-ING\n",
       "1                          FURNITURE\n",
       "2                          FURNITURE\n",
       "3                          FURNITURE\n",
       "4     1ACCESSORIES AND ELECTRONIC'S \n",
       "                   ...              \n",
       "95                             12345\n",
       "96    1ACCESSORIES AND ELECTRONIC'S \n",
       "97                             12345\n",
       "98                             12345\n",
       "99    1ACCESSORIES AND ELECTRONIC'S \n",
       "Name: Product_Category, Length: 100, dtype: object"
      ]
     },
     "execution_count": 128,
     "metadata": {},
     "output_type": "execute_result"
    }
   ],
   "source": [
    "data[\"Product_Category\"].str.upper()"
   ]
  },
  {
   "cell_type": "markdown",
   "metadata": {},
   "source": [
    "\"str.split()\" method is used to split the string based on a charater specified as argument of the method. It will gives the list of split strings."
   ]
  },
  {
   "cell_type": "code",
   "execution_count": 129,
   "metadata": {},
   "outputs": [
    {
     "data": {
      "text/plain": [
       "0                             [Cloth-ing]\n",
       "1                             [FuRNITURE]\n",
       "2                             [FuRNITURE]\n",
       "3                             [FuRNITURE]\n",
       "4     [1Accessories, and, electronic's, ]\n",
       "                     ...                 \n",
       "95                                [12345]\n",
       "96    [1Accessories, and, electronic's, ]\n",
       "97                                [12345]\n",
       "98                                [12345]\n",
       "99    [1Accessories, and, electronic's, ]\n",
       "Name: Product_Category, Length: 100, dtype: object"
      ]
     },
     "execution_count": 129,
     "metadata": {},
     "output_type": "execute_result"
    }
   ],
   "source": [
    "data[\"Product_Category\"].str.split(\" \")   #this will split each string from the space."
   ]
  },
  {
   "cell_type": "code",
   "execution_count": 130,
   "metadata": {
    "scrolled": true
   },
   "outputs": [
    {
     "data": {
      "text/plain": [
       "0                         [Cloth, ing]\n",
       "1                          [FuRNITURE]\n",
       "2                          [FuRNITURE]\n",
       "3                          [FuRNITURE]\n",
       "4     [1Accessories and electronic's ]\n",
       "                    ...               \n",
       "95                             [12345]\n",
       "96    [1Accessories and electronic's ]\n",
       "97                             [12345]\n",
       "98                             [12345]\n",
       "99    [1Accessories and electronic's ]\n",
       "Name: Product_Category, Length: 100, dtype: object"
      ]
     },
     "execution_count": 130,
     "metadata": {},
     "output_type": "execute_result"
    }
   ],
   "source": [
    "data[\"Product_Category\"].str.split(\"-\")   #this will split each string from the -."
   ]
  },
  {
   "cell_type": "markdown",
   "metadata": {},
   "source": [
    "To count the number of occurrence of a charater or symbol in a string, you can use \"str.count()\"\" method."
   ]
  },
  {
   "cell_type": "code",
   "execution_count": 131,
   "metadata": {},
   "outputs": [
    {
     "data": {
      "text/plain": [
       "0     0\n",
       "1     1\n",
       "2     1\n",
       "3     1\n",
       "4     0\n",
       "     ..\n",
       "95    0\n",
       "96    0\n",
       "97    0\n",
       "98    0\n",
       "99    0\n",
       "Name: Product_Category, Length: 100, dtype: int64"
      ]
     },
     "execution_count": 131,
     "metadata": {},
     "output_type": "execute_result"
    }
   ],
   "source": [
    "data[\"Product_Category\"].str.count(\"E\")   #this will count the number of time E occur in each string."
   ]
  },
  {
   "cell_type": "markdown",
   "metadata": {},
   "source": [
    "To identify whether a string starts with specified character, you can use \"str.startswhith()\" method"
   ]
  },
  {
   "cell_type": "code",
   "execution_count": 132,
   "metadata": {},
   "outputs": [
    {
     "data": {
      "text/plain": [
       "0     False\n",
       "1     False\n",
       "2     False\n",
       "3     False\n",
       "4     False\n",
       "      ...  \n",
       "95    False\n",
       "96    False\n",
       "97    False\n",
       "98    False\n",
       "99    False\n",
       "Name: Product_Category, Length: 100, dtype: bool"
      ]
     },
     "execution_count": 132,
     "metadata": {},
     "output_type": "execute_result"
    }
   ],
   "source": [
    "data[\"Product_Category\"].str.startswith(\"E\")  #this is give a True if a string starts with E."
   ]
  },
  {
   "cell_type": "markdown",
   "metadata": {},
   "source": [
    "To identify whether a string end with specified character, you can use \"str.endswhith()\" method"
   ]
  },
  {
   "cell_type": "code",
   "execution_count": 133,
   "metadata": {},
   "outputs": [
    {
     "data": {
      "text/plain": [
       "0     False\n",
       "1     False\n",
       "2     False\n",
       "3     False\n",
       "4     False\n",
       "      ...  \n",
       "95    False\n",
       "96    False\n",
       "97    False\n",
       "98    False\n",
       "99    False\n",
       "Name: Product_Category, Length: 100, dtype: bool"
      ]
     },
     "execution_count": 133,
     "metadata": {},
     "output_type": "execute_result"
    }
   ],
   "source": [
    "data[\"Product_Category\"].str.endswith(\"s\")"
   ]
  },
  {
   "cell_type": "markdown",
   "metadata": {},
   "source": [
    "To get the length of each string, you can use \"str.len()\" method."
   ]
  },
  {
   "cell_type": "code",
   "execution_count": 134,
   "metadata": {},
   "outputs": [
    {
     "data": {
      "text/plain": [
       "0      9\n",
       "1      9\n",
       "2      9\n",
       "3      9\n",
       "4     30\n",
       "      ..\n",
       "95     5\n",
       "96    30\n",
       "97     5\n",
       "98     5\n",
       "99    30\n",
       "Name: Product_Category, Length: 100, dtype: int64"
      ]
     },
     "execution_count": 134,
     "metadata": {},
     "output_type": "execute_result"
    }
   ],
   "source": [
    "data[\"Product_Category\"].str.len()"
   ]
  },
  {
   "cell_type": "markdown",
   "metadata": {},
   "source": [
    "To replace a charater or a symbol in a string, you can use \"str.replace()\" method."
   ]
  },
  {
   "cell_type": "code",
   "execution_count": 135,
   "metadata": {
    "scrolled": true
   },
   "outputs": [
    {
     "data": {
      "text/plain": [
       "0                           Clothing\n",
       "1                          FuRNITURE\n",
       "2                          FuRNITURE\n",
       "3                          FuRNITURE\n",
       "4     1Accessories and electronic's \n",
       "                   ...              \n",
       "95                             12345\n",
       "96    1Accessories and electronic's \n",
       "97                             12345\n",
       "98                             12345\n",
       "99    1Accessories and electronic's \n",
       "Name: Product_Category, Length: 100, dtype: object"
      ]
     },
     "execution_count": 135,
     "metadata": {},
     "output_type": "execute_result"
    }
   ],
   "source": [
    "data[\"Product_Category\"].str.replace(\"-\", \"\") #this will replace - with empty space"
   ]
  },
  {
   "cell_type": "markdown",
   "metadata": {},
   "source": [
    "To repeat a string multiple time, you can use str.repeat() method."
   ]
  },
  {
   "cell_type": "code",
   "execution_count": 136,
   "metadata": {
    "scrolled": true
   },
   "outputs": [
    {
     "data": {
      "text/plain": [
       "0                                    Cloth-ingCloth-ing\n",
       "1                                    FuRNITUREFuRNITURE\n",
       "2                                    FuRNITUREFuRNITURE\n",
       "3                                    FuRNITUREFuRNITURE\n",
       "4     1Accessories and electronic's 1Accessories and...\n",
       "                            ...                        \n",
       "95                                           1234512345\n",
       "96    1Accessories and electronic's 1Accessories and...\n",
       "97                                           1234512345\n",
       "98                                           1234512345\n",
       "99    1Accessories and electronic's 1Accessories and...\n",
       "Name: Product_Category, Length: 100, dtype: object"
      ]
     },
     "execution_count": 136,
     "metadata": {},
     "output_type": "execute_result"
    }
   ],
   "source": [
    "data[\"Product_Category\"].str.repeat(2)\n"
   ]
  },
  {
   "cell_type": "markdown",
   "metadata": {},
   "source": [
    "To find the specified character in a string, you can use \"str.find()\" method. It will gives lowest index of its occurrence in the string. -1 means not found."
   ]
  },
  {
   "cell_type": "code",
   "execution_count": 137,
   "metadata": {
    "scrolled": true
   },
   "outputs": [
    {
     "data": {
      "text/plain": [
       "0    -1\n",
       "1    -1\n",
       "2    -1\n",
       "3    -1\n",
       "4     4\n",
       "     ..\n",
       "95   -1\n",
       "96    4\n",
       "97   -1\n",
       "98   -1\n",
       "99    4\n",
       "Name: Product_Category, Length: 100, dtype: int64"
      ]
     },
     "execution_count": 137,
     "metadata": {},
     "output_type": "execute_result"
    }
   ],
   "source": [
    "data[\"Product_Category\"].str.find(\"e\")"
   ]
  },
  {
   "cell_type": "markdown",
   "metadata": {},
   "source": [
    "\"str.findall()\" method is also used to find substrings or separators in each string."
   ]
  },
  {
   "cell_type": "code",
   "execution_count": 138,
   "metadata": {
    "scrolled": true
   },
   "outputs": [
    {
     "data": {
      "text/plain": [
       "0       []\n",
       "1     [uR]\n",
       "2     [uR]\n",
       "3     [uR]\n",
       "4       []\n",
       "      ... \n",
       "95      []\n",
       "96      []\n",
       "97      []\n",
       "98      []\n",
       "99      []\n",
       "Name: Product_Category, Length: 100, dtype: object"
      ]
     },
     "execution_count": 138,
     "metadata": {},
     "output_type": "execute_result"
    }
   ],
   "source": [
    "data[\"Product_Category\"].str.findall(\"uR\")"
   ]
  },
  {
   "cell_type": "markdown",
   "metadata": {},
   "source": [
    "\"str.islower()\" check if all the characters in the text are in lower case."
   ]
  },
  {
   "cell_type": "code",
   "execution_count": 139,
   "metadata": {
    "scrolled": true
   },
   "outputs": [
    {
     "data": {
      "text/plain": [
       "0     False\n",
       "1     False\n",
       "2     False\n",
       "3     False\n",
       "4     False\n",
       "      ...  \n",
       "95    False\n",
       "96    False\n",
       "97    False\n",
       "98    False\n",
       "99    False\n",
       "Name: Product_Category, Length: 100, dtype: bool"
      ]
     },
     "execution_count": 139,
     "metadata": {},
     "output_type": "execute_result"
    }
   ],
   "source": [
    "data[\"Product_Category\"].str.islower()"
   ]
  },
  {
   "cell_type": "markdown",
   "metadata": {},
   "source": [
    "\"str.isupper()\" check if all the characters in the text are in upper case"
   ]
  },
  {
   "cell_type": "code",
   "execution_count": 140,
   "metadata": {
    "scrolled": true
   },
   "outputs": [
    {
     "data": {
      "text/plain": [
       "0     False\n",
       "1     False\n",
       "2     False\n",
       "3     False\n",
       "4     False\n",
       "      ...  \n",
       "95    False\n",
       "96    False\n",
       "97    False\n",
       "98    False\n",
       "99    False\n",
       "Name: Product_Category, Length: 100, dtype: bool"
      ]
     },
     "execution_count": 140,
     "metadata": {},
     "output_type": "execute_result"
    }
   ],
   "source": [
    "data[\"Product_Category\"].str.isupper()"
   ]
  },
  {
   "cell_type": "markdown",
   "metadata": {},
   "source": [
    "\"isnumeric()\"\" method returns True if all the characters are numeric (0-9), otherwise False. "
   ]
  },
  {
   "cell_type": "code",
   "execution_count": 154,
   "metadata": {
    "scrolled": true
   },
   "outputs": [
    {
     "data": {
      "text/plain": [
       "0     False\n",
       "1     False\n",
       "2     False\n",
       "3     False\n",
       "4     False\n",
       "      ...  \n",
       "95     True\n",
       "96    False\n",
       "97     True\n",
       "98     True\n",
       "99    False\n",
       "Name: Product_Category, Length: 100, dtype: bool"
      ]
     },
     "execution_count": 154,
     "metadata": {},
     "output_type": "execute_result"
    }
   ],
   "source": [
    "data[\"Product_Category\"].str.isnumeric()"
   ]
  },
  {
   "cell_type": "markdown",
   "metadata": {},
   "source": [
    "To split the string based on more than two characters, you can use regular expression with paramater regex=True and also use expand=True to split the columns in \"str.split()\" method. Furthermore, you can use n parameter to control the number of splits."
   ]
  },
  {
   "cell_type": "code",
   "execution_count": 170,
   "metadata": {},
   "outputs": [
    {
     "data": {
      "text/html": [
       "<div>\n",
       "<style scoped>\n",
       "    .dataframe tbody tr th:only-of-type {\n",
       "        vertical-align: middle;\n",
       "    }\n",
       "\n",
       "    .dataframe tbody tr th {\n",
       "        vertical-align: top;\n",
       "    }\n",
       "\n",
       "    .dataframe thead th {\n",
       "        text-align: right;\n",
       "    }\n",
       "</style>\n",
       "<table border=\"1\" class=\"dataframe\">\n",
       "  <thead>\n",
       "    <tr style=\"text-align: right;\">\n",
       "      <th></th>\n",
       "      <th>0</th>\n",
       "      <th>1</th>\n",
       "    </tr>\n",
       "  </thead>\n",
       "  <tbody>\n",
       "    <tr>\n",
       "      <th>0</th>\n",
       "      <td>Cloth</td>\n",
       "      <td>ing</td>\n",
       "    </tr>\n",
       "    <tr>\n",
       "      <th>1</th>\n",
       "      <td>Fu</td>\n",
       "      <td>NITURE</td>\n",
       "    </tr>\n",
       "    <tr>\n",
       "      <th>2</th>\n",
       "      <td>Fu</td>\n",
       "      <td>NITURE</td>\n",
       "    </tr>\n",
       "    <tr>\n",
       "      <th>3</th>\n",
       "      <td>Fu</td>\n",
       "      <td>NITURE</td>\n",
       "    </tr>\n",
       "    <tr>\n",
       "      <th>4</th>\n",
       "      <td>1Acc</td>\n",
       "      <td>ssories and electronic's</td>\n",
       "    </tr>\n",
       "    <tr>\n",
       "      <th>...</th>\n",
       "      <td>...</td>\n",
       "      <td>...</td>\n",
       "    </tr>\n",
       "    <tr>\n",
       "      <th>95</th>\n",
       "      <td>12345</td>\n",
       "      <td>None</td>\n",
       "    </tr>\n",
       "    <tr>\n",
       "      <th>96</th>\n",
       "      <td>1Acc</td>\n",
       "      <td>ssories and electronic's</td>\n",
       "    </tr>\n",
       "    <tr>\n",
       "      <th>97</th>\n",
       "      <td>12345</td>\n",
       "      <td>None</td>\n",
       "    </tr>\n",
       "    <tr>\n",
       "      <th>98</th>\n",
       "      <td>12345</td>\n",
       "      <td>None</td>\n",
       "    </tr>\n",
       "    <tr>\n",
       "      <th>99</th>\n",
       "      <td>1Acc</td>\n",
       "      <td>ssories and electronic's</td>\n",
       "    </tr>\n",
       "  </tbody>\n",
       "</table>\n",
       "<p>100 rows × 2 columns</p>\n",
       "</div>"
      ],
      "text/plain": [
       "        0                          1\n",
       "0   Cloth                        ing\n",
       "1      Fu                     NITURE\n",
       "2      Fu                     NITURE\n",
       "3      Fu                     NITURE\n",
       "4    1Acc  ssories and electronic's \n",
       "..    ...                        ...\n",
       "95  12345                       None\n",
       "96   1Acc  ssories and electronic's \n",
       "97  12345                       None\n",
       "98  12345                       None\n",
       "99   1Acc  ssories and electronic's \n",
       "\n",
       "[100 rows x 2 columns]"
      ]
     },
     "execution_count": 170,
     "metadata": {},
     "output_type": "execute_result"
    }
   ],
   "source": [
    "data[\"Product_Category\"].str.split(r\"[- R e]\",n=1, regex=True, expand=True)  #this will split the columns from - and e"
   ]
  },
  {
   "cell_type": "markdown",
   "metadata": {},
   "source": [
    "To repalce two or more than two characters in a string, you can use regular expression with parameter regex=True in \"str.replace\" method"
   ]
  },
  {
   "cell_type": "code",
   "execution_count": 171,
   "metadata": {},
   "outputs": [
    {
     "data": {
      "text/plain": [
       "0                        Clothing\n",
       "1                       FuRNITURE\n",
       "2                       FuRNITURE\n",
       "3                       FuRNITURE\n",
       "4     1Accessoriesandelectronic's\n",
       "                 ...             \n",
       "95                          12345\n",
       "96    1Accessoriesandelectronic's\n",
       "97                          12345\n",
       "98                          12345\n",
       "99    1Accessoriesandelectronic's\n",
       "Name: Product_Category, Length: 100, dtype: object"
      ]
     },
     "execution_count": 171,
     "metadata": {},
     "output_type": "execute_result"
    }
   ],
   "source": [
    "data[\"Product_Category\"].str.replace(r\"[- ,]\", \"\", regex=True)"
   ]
  },
  {
   "cell_type": "markdown",
   "metadata": {},
   "source": [
    "\"str.capitalize()\" method in Python is used to change the first letter of a string to uppercase and make all other letters lowercase."
   ]
  },
  {
   "cell_type": "code",
   "execution_count": 173,
   "metadata": {
    "scrolled": true
   },
   "outputs": [
    {
     "data": {
      "text/plain": [
       "0                          Cloth-ing\n",
       "1                          Furniture\n",
       "2                          Furniture\n",
       "3                          Furniture\n",
       "4     1accessories and electronic's \n",
       "                   ...              \n",
       "95                             12345\n",
       "96    1accessories and electronic's \n",
       "97                             12345\n",
       "98                             12345\n",
       "99    1accessories and electronic's \n",
       "Name: Product_Category, Length: 100, dtype: object"
      ]
     },
     "execution_count": 173,
     "metadata": {},
     "output_type": "execute_result"
    }
   ],
   "source": [
    "data[\"Product_Category\"].str.capitalize()"
   ]
  },
  {
   "cell_type": "markdown",
   "metadata": {},
   "source": [
    "\"str.lstrip()\" and \"str.rstrip()\" are used to remove trailing and leading whitespace from left and right respectively."
   ]
  },
  {
   "cell_type": "code",
   "execution_count": 175,
   "metadata": {
    "scrolled": true
   },
   "outputs": [
    {
     "data": {
      "text/plain": [
       "0                         Cloth-ing\n",
       "1                         FuRNITURE\n",
       "2                         FuRNITURE\n",
       "3                         FuRNITURE\n",
       "4     1Accessories and electronic's\n",
       "                  ...              \n",
       "95                            12345\n",
       "96    1Accessories and electronic's\n",
       "97                            12345\n",
       "98                            12345\n",
       "99    1Accessories and electronic's\n",
       "Name: Product_Category, Length: 100, dtype: object"
      ]
     },
     "execution_count": 175,
     "metadata": {},
     "output_type": "execute_result"
    }
   ],
   "source": [
    "data[\"Product_Category\"].str.lstrip()\n",
    "data[\"Product_Category\"].str.rstrip()\n"
   ]
  },
  {
   "cell_type": "markdown",
   "metadata": {},
   "source": [
    "\"isalpha()\" string method checks if all of the characters in a string are letters of the alphabet ( a-z )."
   ]
  },
  {
   "cell_type": "code",
   "execution_count": 176,
   "metadata": {
    "scrolled": true
   },
   "outputs": [
    {
     "data": {
      "text/plain": [
       "0     False\n",
       "1      True\n",
       "2      True\n",
       "3      True\n",
       "4     False\n",
       "      ...  \n",
       "95    False\n",
       "96    False\n",
       "97    False\n",
       "98    False\n",
       "99    False\n",
       "Name: Product_Category, Length: 100, dtype: bool"
      ]
     },
     "execution_count": 176,
     "metadata": {},
     "output_type": "execute_result"
    }
   ],
   "source": [
    "data[\"Product_Category\"].str.isalpha()\n"
   ]
  },
  {
   "cell_type": "markdown",
   "metadata": {},
   "source": [
    "\"isdigit()\" method returns True if all the characters are digits, otherwise False."
   ]
  },
  {
   "cell_type": "code",
   "execution_count": 178,
   "metadata": {},
   "outputs": [
    {
     "data": {
      "text/plain": [
       "0     False\n",
       "1     False\n",
       "2     False\n",
       "3     False\n",
       "4     False\n",
       "      ...  \n",
       "95     True\n",
       "96    False\n",
       "97     True\n",
       "98     True\n",
       "99    False\n",
       "Name: Product_Category, Length: 100, dtype: bool"
      ]
     },
     "execution_count": 178,
     "metadata": {},
     "output_type": "execute_result"
    }
   ],
   "source": [
    "data[\"Product_Category\"].str.isdigit()\n"
   ]
  },
  {
   "cell_type": "code",
   "execution_count": null,
   "metadata": {},
   "outputs": [],
   "source": []
  },
  {
   "cell_type": "code",
   "execution_count": null,
   "metadata": {},
   "outputs": [],
   "source": []
  },
  {
   "cell_type": "code",
   "execution_count": null,
   "metadata": {},
   "outputs": [],
   "source": []
  },
  {
   "cell_type": "code",
   "execution_count": null,
   "metadata": {},
   "outputs": [],
   "source": []
  }
 ],
 "metadata": {
  "kernelspec": {
   "display_name": "Python 3 (ipykernel)",
   "language": "python",
   "name": "python3"
  },
  "language_info": {
   "codemirror_mode": {
    "name": "ipython",
    "version": 3
   },
   "file_extension": ".py",
   "mimetype": "text/x-python",
   "name": "python",
   "nbconvert_exporter": "python",
   "pygments_lexer": "ipython3",
   "version": "3.11.5"
  }
 },
 "nbformat": 4,
 "nbformat_minor": 2
}
